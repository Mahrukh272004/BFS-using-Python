{
 "cells": [
  {
   "cell_type": "code",
   "execution_count": 28,
   "metadata": {},
   "outputs": [],
   "source": [
    "graph={\n",
    "     '5': ['3','7'],\n",
    "     '3': ['2','4'],\n",
    "     '7': ['8'],\n",
    "     '2': [],\n",
    "     '4': ['8'],\n",
    "     '8': []\n",
    "}"
   ]
  },
  {
   "cell_type": "code",
   "execution_count": 30,
   "metadata": {},
   "outputs": [
    {
     "name": "stdout",
     "output_type": "stream",
     "text": [
      "5 3 7 2 4 8 "
     ]
    }
   ],
   "source": [
    "visited=[]\n",
    "queue=[]\n",
    "def bfs(visited,graph,root):\n",
    "    visited.append(root)\n",
    "    queue.append(root)\n",
    "    while queue:\n",
    "        m=queue.pop(0)\n",
    "        print(m,end=\" \")\n",
    "    \n",
    "        for neighbours in graph[m]:\n",
    "            if neighbours not in visited:\n",
    "                visited.append(neighbours)\n",
    "                queue.append(neighbours)\n",
    "            \n",
    "bfs(visited,graph,'5')\n",
    "            \n",
    "    "
   ]
  }
 ],
 "metadata": {
  "kernelspec": {
   "display_name": "Python 3",
   "language": "python",
   "name": "python3"
  },
  "language_info": {
   "codemirror_mode": {
    "name": "ipython",
    "version": 3
   },
   "file_extension": ".py",
   "mimetype": "text/x-python",
   "name": "python",
   "nbconvert_exporter": "python",
   "pygments_lexer": "ipython3",
   "version": "3.12.0"
  }
 },
 "nbformat": 4,
 "nbformat_minor": 2
}
